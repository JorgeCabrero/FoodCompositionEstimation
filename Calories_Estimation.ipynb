{
 "cells": [
  {
   "cell_type": "markdown",
   "metadata": {},
   "source": [
    "# Estimación de calorías basados en áreas segmentadas\n"
   ]
  },
  {
   "cell_type": "code",
   "execution_count": null,
   "metadata": {},
   "outputs": [],
   "source": [
    "#!pip install easydev\n",
    "#!pip install colormap\n",
    "#!pip install extcolors"
   ]
  },
  {
   "cell_type": "code",
   "execution_count": 124,
   "metadata": {},
   "outputs": [],
   "source": [
    "import pandas as pd\n",
    "import cv2 \n",
    "import numpy as np\n",
    "from matplotlib import pyplot as plt\n",
    "%matplotlib inline\n",
    "import extcolors\n",
    "from colormap import rgb2hex"
   ]
  },
  {
   "cell_type": "markdown",
   "metadata": {},
   "source": [
    "# Base de Conocimiento"
   ]
  },
  {
   "cell_type": "code",
   "execution_count": 125,
   "metadata": {},
   "outputs": [
    {
     "data": {
      "text/html": [
       "<div>\n",
       "<style scoped>\n",
       "    .dataframe tbody tr th:only-of-type {\n",
       "        vertical-align: middle;\n",
       "    }\n",
       "\n",
       "    .dataframe tbody tr th {\n",
       "        vertical-align: top;\n",
       "    }\n",
       "\n",
       "    .dataframe thead th {\n",
       "        text-align: right;\n",
       "    }\n",
       "</style>\n",
       "<table border=\"1\" class=\"dataframe\">\n",
       "  <thead>\n",
       "    <tr style=\"text-align: right;\">\n",
       "      <th></th>\n",
       "      <th>c_code</th>\n",
       "      <th>Nombre</th>\n",
       "    </tr>\n",
       "  </thead>\n",
       "  <tbody>\n",
       "    <tr>\n",
       "      <th>0</th>\n",
       "      <td>#C0C0C0</td>\n",
       "      <td>Gris Claro</td>\n",
       "    </tr>\n",
       "    <tr>\n",
       "      <th>1</th>\n",
       "      <td>#808080</td>\n",
       "      <td>Gris</td>\n",
       "    </tr>\n",
       "    <tr>\n",
       "      <th>2</th>\n",
       "      <td>#000000</td>\n",
       "      <td>Negro</td>\n",
       "    </tr>\n",
       "    <tr>\n",
       "      <th>3</th>\n",
       "      <td>#FF0000</td>\n",
       "      <td>Rojo</td>\n",
       "    </tr>\n",
       "    <tr>\n",
       "      <th>4</th>\n",
       "      <td>#808080</td>\n",
       "      <td>Marrón</td>\n",
       "    </tr>\n",
       "    <tr>\n",
       "      <th>5</th>\n",
       "      <td>#FFFF00</td>\n",
       "      <td>Amarillo</td>\n",
       "    </tr>\n",
       "    <tr>\n",
       "      <th>6</th>\n",
       "      <td>#808000</td>\n",
       "      <td>Dorado</td>\n",
       "    </tr>\n",
       "    <tr>\n",
       "      <th>7</th>\n",
       "      <td>#00FF00</td>\n",
       "      <td>Verde limón</td>\n",
       "    </tr>\n",
       "    <tr>\n",
       "      <th>8</th>\n",
       "      <td>#008000</td>\n",
       "      <td>Verde</td>\n",
       "    </tr>\n",
       "    <tr>\n",
       "      <th>9</th>\n",
       "      <td>#00FFFF</td>\n",
       "      <td>Cyan</td>\n",
       "    </tr>\n",
       "    <tr>\n",
       "      <th>10</th>\n",
       "      <td>#008080</td>\n",
       "      <td>Verde-Azul</td>\n",
       "    </tr>\n",
       "    <tr>\n",
       "      <th>11</th>\n",
       "      <td>#0000FF</td>\n",
       "      <td>Azul</td>\n",
       "    </tr>\n",
       "    <tr>\n",
       "      <th>12</th>\n",
       "      <td>#000080</td>\n",
       "      <td>Azul marino</td>\n",
       "    </tr>\n",
       "    <tr>\n",
       "      <th>13</th>\n",
       "      <td>#FF00FF</td>\n",
       "      <td>Rosa</td>\n",
       "    </tr>\n",
       "    <tr>\n",
       "      <th>14</th>\n",
       "      <td>#800080</td>\n",
       "      <td>Morado</td>\n",
       "    </tr>\n",
       "  </tbody>\n",
       "</table>\n",
       "</div>"
      ],
      "text/plain": [
       "     c_code       Nombre\n",
       "0   #C0C0C0   Gris Claro\n",
       "1   #808080         Gris\n",
       "2   #000000        Negro\n",
       "3   #FF0000         Rojo\n",
       "4   #808080       Marrón\n",
       "5   #FFFF00     Amarillo\n",
       "6   #808000       Dorado\n",
       "7   #00FF00  Verde limón\n",
       "8   #008000        Verde\n",
       "9   #00FFFF         Cyan\n",
       "10  #008080   Verde-Azul\n",
       "11  #0000FF         Azul\n",
       "12  #000080  Azul marino\n",
       "13  #FF00FF         Rosa\n",
       "14  #800080       Morado"
      ]
     },
     "execution_count": 125,
     "metadata": {},
     "output_type": "execute_result"
    }
   ],
   "source": [
    "color_keys = pd.read_csv('colors_keys.csv')\n",
    "color_keys"
   ]
  },
  {
   "cell_type": "code",
   "execution_count": 127,
   "metadata": {},
   "outputs": [
    {
     "data": {
      "text/html": [
       "<div>\n",
       "<style scoped>\n",
       "    .dataframe tbody tr th:only-of-type {\n",
       "        vertical-align: middle;\n",
       "    }\n",
       "\n",
       "    .dataframe tbody tr th {\n",
       "        vertical-align: top;\n",
       "    }\n",
       "\n",
       "    .dataframe thead th {\n",
       "        text-align: right;\n",
       "    }\n",
       "</style>\n",
       "<table border=\"1\" class=\"dataframe\">\n",
       "  <thead>\n",
       "    <tr style=\"text-align: right;\">\n",
       "      <th></th>\n",
       "      <th>Clase</th>\n",
       "      <th>gramos_por_cm_cuad</th>\n",
       "      <th>kcal_por_gramo</th>\n",
       "    </tr>\n",
       "  </thead>\n",
       "  <tbody>\n",
       "    <tr>\n",
       "      <th>0</th>\n",
       "      <td>plato</td>\n",
       "      <td>0.0</td>\n",
       "      <td>0.00</td>\n",
       "    </tr>\n",
       "    <tr>\n",
       "      <th>1</th>\n",
       "      <td>fondo</td>\n",
       "      <td>0.0</td>\n",
       "      <td>0.00</td>\n",
       "    </tr>\n",
       "    <tr>\n",
       "      <th>2</th>\n",
       "      <td>huevo</td>\n",
       "      <td>1.7</td>\n",
       "      <td>1.55</td>\n",
       "    </tr>\n",
       "    <tr>\n",
       "      <th>3</th>\n",
       "      <td>papa</td>\n",
       "      <td>2.1</td>\n",
       "      <td>0.86</td>\n",
       "    </tr>\n",
       "    <tr>\n",
       "      <th>4</th>\n",
       "      <td>espinaca</td>\n",
       "      <td>0.5</td>\n",
       "      <td>0.23</td>\n",
       "    </tr>\n",
       "  </tbody>\n",
       "</table>\n",
       "</div>"
      ],
      "text/plain": [
       "      Clase  gramos_por_cm_cuad  kcal_por_gramo\n",
       "0     plato                 0.0            0.00\n",
       "1     fondo                 0.0            0.00\n",
       "2     huevo                 1.7            1.55\n",
       "3      papa                 2.1            0.86\n",
       "4  espinaca                 0.5            0.23"
      ]
     },
     "execution_count": 127,
     "metadata": {},
     "output_type": "execute_result"
    }
   ],
   "source": [
    "KB = pd.read_csv('knowledge_base.csv')\n",
    "KB"
   ]
  },
  {
   "cell_type": "markdown",
   "metadata": {},
   "source": [
    "# Carga la imagen que deseamos estimar (Máscara segmentada)"
   ]
  },
  {
   "cell_type": "code",
   "execution_count": 128,
   "metadata": {},
   "outputs": [
    {
     "name": "stdout",
     "output_type": "stream",
     "text": [
      "Escribe el numero del platillo segmentado: 2\n"
     ]
    }
   ],
   "source": [
    "IMAGE_PATH = str(input(\"Escribe el numero del platillo segmentado: \"))\n",
    "IMAGE_PATH = 'Segmented_Dishes/Segmented_dish' + IMAGE_PATH + '.png'"
   ]
  },
  {
   "cell_type": "code",
   "execution_count": 129,
   "metadata": {},
   "outputs": [
    {
     "data": {
      "image/png": "[encoded data removed]",
      "text/plain": [
       "<Figure size 432x288 with 1 Axes>"
      ]
     },
     "metadata": {
      "needs_background": "light"
     },
     "output_type": "display_data"
    }
   ],
   "source": [
    "img = cv2.imread(IMAGE_PATH)\n",
    "image_np = np.array(img)\n",
    "height, width, channels = img.shape\n",
    "plt.imshow(cv2.cvtColor(img, cv2.COLOR_BGR2RGB))\n",
    "plt.show()"
   ]
  },
  {
   "cell_type": "code",
   "execution_count": 130,
   "metadata": {},
   "outputs": [
    {
     "name": "stdout",
     "output_type": "stream",
     "text": [
      "Introduce el diámetro del plato: 26\n"
     ]
    },
    {
     "data": {
      "text/plain": [
       "0.0014555163207303418"
      ]
     },
     "execution_count": 130,
     "metadata": {},
     "output_type": "execute_result"
    }
   ],
   "source": [
    "dish_diameter = input(\"Introduce el diámetro del plato: \")\n",
    "Box_area = int(dish_diameter)*int(dish_diameter)\n",
    "Pixel_area = Box_area / (height*width)\n",
    "Pixel_area"
   ]
  },
  {
   "cell_type": "code",
   "execution_count": 131,
   "metadata": {},
   "outputs": [
    {
     "data": {
      "image/png": "[encoded data removed]",
      "text/plain": [
       "<Figure size 200x200 with 1 Axes>"
      ]
     },
     "metadata": {},
     "output_type": "display_data"
    }
   ],
   "source": [
    "colors_x = extcolors.extract_from_path(IMAGE_PATH, tolerance=0, limit=15)\n",
    "colors_x\n",
    "\n",
    "def color_to_df(input):\n",
    "    colors_pre_list = str(input).replace('([(','')#.split(', (')#[0:-1]\n",
    "    colors_pre_list = str(colors_pre_list).replace(']','').split(', (')\n",
    "    df_rgb = [i.split('), ')[0] + ')' for i in colors_pre_list]\n",
    "    df_percent = [i.split('), ')[1].replace(')','') for i in colors_pre_list]\n",
    "    \n",
    "    #convert RGB to HEX code\n",
    "    df_color_up = [rgb2hex(int(i.split(\", \")[0].replace(\"(\",\"\")),\n",
    "                          int(i.split(\", \")[1]),\n",
    "                          int(i.split(\", \")[2].replace(\")\",\"\"))) for i in df_rgb]\n",
    "    \n",
    "    df = pd.DataFrame(zip(df_color_up, df_percent), columns = ['c_code','occurence'])\n",
    "    return df\n",
    "\n",
    "df_color = color_to_df(colors_x)\n",
    "df_color\n",
    "\n",
    "df_color2 = pd.merge(df_color, color_keys, on=['c_code'], how='left')\n",
    "\n",
    "list_color = list(df_color2['Nombre'])\n",
    "list_color2 = list(df_color2['c_code'])\n",
    "list_percent = [int(i) for i in list(df_color2['occurence'])]\n",
    "text_c = [c + ' ' + str(round(Pixel_area*int(p),2)) +'cm2' for c, p in zip(list_color,\n",
    "                                                                               list_percent)]\n",
    "fig, ax = plt.subplots(figsize=(20,20),dpi=10)\n",
    "wedges, text = ax.pie(list_percent,\n",
    "                      labels= text_c,\n",
    "                      labeldistance= 1.05,\n",
    "                      colors = list_color2,\n",
    "                      textprops={'fontsize': 100, 'color':'black'}\n",
    "                     )\n",
    "plt.setp(wedges, width=0.3)\n",
    "\n",
    "#create space in the center\n",
    "plt.setp(wedges, width=0.36)\n",
    "\n",
    "ax.set_aspect(\"equal\")\n",
    "fig.set_facecolor('white')\n",
    "plt.show()"
   ]
  },
  {
   "cell_type": "code",
   "execution_count": 132,
   "metadata": {},
   "outputs": [
    {
     "data": {
      "image/png": "[encoded data removed]",
      "text/plain": [
       "<Figure size 432x288 with 1 Axes>"
      ]
     },
     "metadata": {
      "needs_background": "light"
     },
     "output_type": "display_data"
    }
   ],
   "source": [
    "img = cv2.imread(IMAGE_PATH)\n",
    "image_np = np.array(img)\n",
    "height, width, channels = img.shape\n",
    "plt.imshow(cv2.cvtColor(img, cv2.COLOR_BGR2RGB))\n",
    "plt.show()"
   ]
  },
  {
   "cell_type": "code",
   "execution_count": 133,
   "metadata": {},
   "outputs": [
    {
     "name": "stdout",
     "output_type": "stream",
     "text": [
      "Que alimento representa el color Cyan:plato\n",
      "Que alimento representa el color Negro:fondo\n",
      "Que alimento representa el color Verde limón:espinaca\n",
      "Que alimento representa el color Rojo:huevo\n",
      "Que alimento representa el color Amarillo:papa\n"
     ]
    }
   ],
   "source": [
    "list_food = []\n",
    "for i in list_color:\n",
    "    list_food.append(input(\"Que alimento representa el color \" + i + \":\"))"
   ]
  },
  {
   "cell_type": "code",
   "execution_count": 136,
   "metadata": {},
   "outputs": [],
   "source": [
    "list_area = []\n",
    "for i in list_percent:\n",
    "    list_area.append(i * Pixel_area)"
   ]
  },
  {
   "cell_type": "code",
   "execution_count": 137,
   "metadata": {},
   "outputs": [
    {
     "data": {
      "text/html": [
       "<div>\n",
       "<style scoped>\n",
       "    .dataframe tbody tr th:only-of-type {\n",
       "        vertical-align: middle;\n",
       "    }\n",
       "\n",
       "    .dataframe tbody tr th {\n",
       "        vertical-align: top;\n",
       "    }\n",
       "\n",
       "    .dataframe thead th {\n",
       "        text-align: right;\n",
       "    }\n",
       "</style>\n",
       "<table border=\"1\" class=\"dataframe\">\n",
       "  <thead>\n",
       "    <tr style=\"text-align: right;\">\n",
       "      <th></th>\n",
       "      <th>Area</th>\n",
       "      <th>Clase</th>\n",
       "    </tr>\n",
       "  </thead>\n",
       "  <tbody>\n",
       "    <tr>\n",
       "      <th>0</th>\n",
       "      <td>258.102343</td>\n",
       "      <td>plato</td>\n",
       "    </tr>\n",
       "    <tr>\n",
       "      <th>1</th>\n",
       "      <td>138.910111</td>\n",
       "      <td>fondo</td>\n",
       "    </tr>\n",
       "    <tr>\n",
       "      <th>2</th>\n",
       "      <td>118.899673</td>\n",
       "      <td>espinaca</td>\n",
       "    </tr>\n",
       "    <tr>\n",
       "      <th>3</th>\n",
       "      <td>84.607708</td>\n",
       "      <td>huevo</td>\n",
       "    </tr>\n",
       "    <tr>\n",
       "      <th>4</th>\n",
       "      <td>75.480165</td>\n",
       "      <td>papa</td>\n",
       "    </tr>\n",
       "  </tbody>\n",
       "</table>\n",
       "</div>"
      ],
      "text/plain": [
       "         Area     Clase\n",
       "0  258.102343     plato\n",
       "1  138.910111     fondo\n",
       "2  118.899673  espinaca\n",
       "3   84.607708     huevo\n",
       "4   75.480165      papa"
      ]
     },
     "execution_count": 137,
     "metadata": {},
     "output_type": "execute_result"
    }
   ],
   "source": [
    "Results = pd.DataFrame(list(zip(list_area, list_food)),\n",
    "               columns =['Area', 'Clase'])\n",
    "Results"
   ]
  },
  {
   "cell_type": "code",
   "execution_count": 106,
   "metadata": {},
   "outputs": [
    {
     "data": {
      "text/html": [
       "<div>\n",
       "<style scoped>\n",
       "    .dataframe tbody tr th:only-of-type {\n",
       "        vertical-align: middle;\n",
       "    }\n",
       "\n",
       "    .dataframe tbody tr th {\n",
       "        vertical-align: top;\n",
       "    }\n",
       "\n",
       "    .dataframe thead th {\n",
       "        text-align: right;\n",
       "    }\n",
       "</style>\n",
       "<table border=\"1\" class=\"dataframe\">\n",
       "  <thead>\n",
       "    <tr style=\"text-align: right;\">\n",
       "      <th></th>\n",
       "      <th>Area</th>\n",
       "      <th>Clase</th>\n",
       "      <th>gramos_por_cm_cuad</th>\n",
       "      <th>kcal_por_gramo</th>\n",
       "    </tr>\n",
       "  </thead>\n",
       "  <tbody>\n",
       "    <tr>\n",
       "      <th>0</th>\n",
       "      <td>258.102343</td>\n",
       "      <td>plato</td>\n",
       "      <td>0.0</td>\n",
       "      <td>0.00</td>\n",
       "    </tr>\n",
       "    <tr>\n",
       "      <th>1</th>\n",
       "      <td>138.910111</td>\n",
       "      <td>fondo</td>\n",
       "      <td>0.0</td>\n",
       "      <td>0.00</td>\n",
       "    </tr>\n",
       "    <tr>\n",
       "      <th>2</th>\n",
       "      <td>118.899673</td>\n",
       "      <td>espinaca</td>\n",
       "      <td>0.5</td>\n",
       "      <td>0.23</td>\n",
       "    </tr>\n",
       "    <tr>\n",
       "      <th>3</th>\n",
       "      <td>84.607708</td>\n",
       "      <td>huevo</td>\n",
       "      <td>1.7</td>\n",
       "      <td>1.55</td>\n",
       "    </tr>\n",
       "    <tr>\n",
       "      <th>4</th>\n",
       "      <td>75.480165</td>\n",
       "      <td>papa</td>\n",
       "      <td>2.1</td>\n",
       "      <td>0.86</td>\n",
       "    </tr>\n",
       "  </tbody>\n",
       "</table>\n",
       "</div>"
      ],
      "text/plain": [
       "         Area     Clase  gramos_por_cm_cuad  kcal_por_gramo\n",
       "0  258.102343     plato                 0.0            0.00\n",
       "1  138.910111     fondo                 0.0            0.00\n",
       "2  118.899673  espinaca                 0.5            0.23\n",
       "3   84.607708     huevo                 1.7            1.55\n",
       "4   75.480165      papa                 2.1            0.86"
      ]
     },
     "execution_count": 106,
     "metadata": {},
     "output_type": "execute_result"
    }
   ],
   "source": [
    "Results2 = pd.merge(Results,KB,on=['Clase'], how='left')\n",
    "Results2"
   ]
  },
  {
   "cell_type": "code",
   "execution_count": 113,
   "metadata": {},
   "outputs": [
    {
     "data": {
      "text/html": [
       "<div>\n",
       "<style scoped>\n",
       "    .dataframe tbody tr th:only-of-type {\n",
       "        vertical-align: middle;\n",
       "    }\n",
       "\n",
       "    .dataframe tbody tr th {\n",
       "        vertical-align: top;\n",
       "    }\n",
       "\n",
       "    .dataframe thead th {\n",
       "        text-align: right;\n",
       "    }\n",
       "</style>\n",
       "<table border=\"1\" class=\"dataframe\">\n",
       "  <thead>\n",
       "    <tr style=\"text-align: right;\">\n",
       "      <th></th>\n",
       "      <th>Area</th>\n",
       "      <th>Clase</th>\n",
       "      <th>gramos_por_cm_cuad</th>\n",
       "      <th>kcal_por_gramo</th>\n",
       "      <th>Calorias</th>\n",
       "      <th>Gramos</th>\n",
       "    </tr>\n",
       "  </thead>\n",
       "  <tbody>\n",
       "    <tr>\n",
       "      <th>0</th>\n",
       "      <td>258.102343</td>\n",
       "      <td>plato</td>\n",
       "      <td>0.0</td>\n",
       "      <td>0.00</td>\n",
       "      <td>0.000000</td>\n",
       "      <td>0.000000</td>\n",
       "    </tr>\n",
       "    <tr>\n",
       "      <th>1</th>\n",
       "      <td>138.910111</td>\n",
       "      <td>fondo</td>\n",
       "      <td>0.0</td>\n",
       "      <td>0.00</td>\n",
       "      <td>0.000000</td>\n",
       "      <td>0.000000</td>\n",
       "    </tr>\n",
       "    <tr>\n",
       "      <th>2</th>\n",
       "      <td>118.899673</td>\n",
       "      <td>espinaca</td>\n",
       "      <td>0.5</td>\n",
       "      <td>0.23</td>\n",
       "      <td>13.673462</td>\n",
       "      <td>59.449836</td>\n",
       "    </tr>\n",
       "    <tr>\n",
       "      <th>3</th>\n",
       "      <td>84.607708</td>\n",
       "      <td>huevo</td>\n",
       "      <td>1.7</td>\n",
       "      <td>1.55</td>\n",
       "      <td>222.941311</td>\n",
       "      <td>143.833104</td>\n",
       "    </tr>\n",
       "    <tr>\n",
       "      <th>4</th>\n",
       "      <td>75.480165</td>\n",
       "      <td>papa</td>\n",
       "      <td>2.1</td>\n",
       "      <td>0.86</td>\n",
       "      <td>136.317179</td>\n",
       "      <td>158.508347</td>\n",
       "    </tr>\n",
       "  </tbody>\n",
       "</table>\n",
       "</div>"
      ],
      "text/plain": [
       "         Area     Clase  gramos_por_cm_cuad  kcal_por_gramo    Calorias  \\\n",
       "0  258.102343     plato                 0.0            0.00    0.000000   \n",
       "1  138.910111     fondo                 0.0            0.00    0.000000   \n",
       "2  118.899673  espinaca                 0.5            0.23   13.673462   \n",
       "3   84.607708     huevo                 1.7            1.55  222.941311   \n",
       "4   75.480165      papa                 2.1            0.86  136.317179   \n",
       "\n",
       "       Gramos  \n",
       "0    0.000000  \n",
       "1    0.000000  \n",
       "2   59.449836  \n",
       "3  143.833104  \n",
       "4  158.508347  "
      ]
     },
     "execution_count": 113,
     "metadata": {},
     "output_type": "execute_result"
    }
   ],
   "source": [
    "Results2['Gramos'] = Results2['Area'] * Results2['gramos_por_cm_cuad']\n",
    "Results2['Calorias'] = Results2['Area'] * Results2['gramos_por_cm_cuad'] * Results2['kcal_por_gramo']\n",
    "\n",
    "Results2"
   ]
  },
  {
   "cell_type": "code",
   "execution_count": 111,
   "metadata": {},
   "outputs": [],
   "source": [
    "Calorias_Totales = Results2['Calorias'].sum(axis=0)"
   ]
  },
  {
   "cell_type": "code",
   "execution_count": 112,
   "metadata": {},
   "outputs": [
    {
     "data": {
      "text/plain": [
       "372.9319521315993"
      ]
     },
     "execution_count": 112,
     "metadata": {},
     "output_type": "execute_result"
    }
   ],
   "source": [
    "Calorias_Totales"
   ]
  },
  {
   "cell_type": "code",
   "execution_count": null,
   "metadata": {},
   "outputs": [],
   "source": []
  }
 ],
 "metadata": {
  "kernelspec": {
   "display_name": "Python 3 (ipykernel)",
   "language": "python",
   "name": "python3"
  },
  "language_info": {
   "codemirror_mode": {
    "name": "ipython",
    "version": 3
   },
   "file_extension": ".py",
   "mimetype": "text/x-python",
   "name": "python",
   "nbconvert_exporter": "python",
   "pygments_lexer": "ipython3",
   "version": "3.8.5"
  }
 },
 "nbformat": 4,
 "nbformat_minor": 4
}
